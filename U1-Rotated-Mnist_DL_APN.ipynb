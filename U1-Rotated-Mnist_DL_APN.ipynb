{
 "cells": [
  {
   "cell_type": "code",
   "execution_count": 1,
   "metadata": {},
   "outputs": [],
   "source": [
    "import numpy as np # linear algebra\n",
    "import pandas as pd # data processing, CSV file I/O (e.g. pd.read_csv)\n",
    "import subprocess\n",
    "import pickle\n",
    "import torch\n",
    "import os\n",
    "from torchvision import transforms\n",
    "from PIL import Image\n",
    "import argparse\n",
    "import os.path\n",
    "import random\n",
    "import torch\n",
    "# TensorFlow ≥2.0 is required\n",
    "import tensorflow as tf\n",
    "from tensorflow import keras\n",
    "assert tf.__version__ >= \"2.0\""
   ]
  },
  {
   "cell_type": "code",
   "execution_count": 2,
   "metadata": {},
   "outputs": [
    {
     "name": "stdout",
     "output_type": "stream",
     "text": [
      "Xtrain size: [60000 , 28 , 28 ]\n",
      "Xtest size: [10000 , 28 , 28 ]\n",
      "Ytrain size: [60000 ]\n",
      "Ytest size: [10000 ]\n"
     ]
    }
   ],
   "source": [
    "f = np.load('https://github.com/akatast/Continual_learn_RotMNIST/blob/main/mnist.npz')\n",
    "x_tr = torch.from_numpy(f['x_train'])\n",
    "y_tr = torch.from_numpy(f['y_train']).long()\n",
    "x_te = torch.from_numpy(f['x_test'])\n",
    "y_te = torch.from_numpy(f['y_test']).long()\n",
    "f.close()\n",
    "torch.save((x_tr, y_tr), 'mnist_train.pt')\n",
    "torch.save((x_te, y_te), 'mnist_test.pt')\n",
    "x_tr.size()[0]\n",
    "print('Xtrain size: [%d , %d , %d ]' % (x_tr.size()[0], x_tr.size()[1],x_tr.size()[2]))\n",
    "print('Xtest size: [%d , %d , %d ]' % (x_te.size()[0], x_te.size()[1],x_te.size()[2]))\n",
    "print('Ytrain size: [%d ]' % (y_tr.size()[0]))\n",
    "print('Ytest size: [%d ]' % (y_te.size()[0]))"
   ]
  },
  {
   "cell_type": "markdown",
   "metadata": {},
   "source": [
    "Define function for rotating the dataset images:"
   ]
  },
  {
   "cell_type": "code",
   "execution_count": 3,
   "metadata": {},
   "outputs": [],
   "source": [
    "def rotate_dataset(d, rotation):\n",
    "    result = torch.FloatTensor(d.size(0), 784)\n",
    "    tensor = transforms.ToTensor()\n",
    "\n",
    "    for i in range(d.size(0)):\n",
    "        img = Image.fromarray(d[i].numpy(), mode='L')\n",
    "        result[i] = tensor(img.rotate(rotation)).view(784)\n",
    "    return result"
   ]
  },
  {
   "cell_type": "markdown",
   "metadata": {},
   "source": [
    "Creating traing and testing datasets (tasks, rotated set, labels):"
   ]
  },
  {
   "cell_type": "code",
   "execution_count": 4,
   "metadata": {},
   "outputs": [],
   "source": [
    "#a_i = 'C:/Users/shriv/Rotated_Mnist_Output'\n",
    "a_ntasks = 10\n",
    "a_min_rot = 0\n",
    "a_max_rot = 90\n",
    "a_seed = 0\n",
    "\n",
    "torch.manual_seed(a_seed)\n",
    "\n",
    "tasks_tr = []\n",
    "tasks_te = []\n",
    "\n",
    "for t in range(a_ntasks):\n",
    "    min_rot = 1.0 * t / a_ntasks * (a_max_rot - a_min_rot) + \\\n",
    "        a_min_rot\n",
    "    max_rot = 1.0 * (t + 1) / a_ntasks * \\\n",
    "        (a_max_rot - a_min_rot) + a_min_rot\n",
    "    rot = random.random() * (max_rot - min_rot) + min_rot\n",
    "\n",
    "    tasks_tr.append([rot, rotate_dataset(x_tr, rot), y_tr])\n",
    "    tasks_te.append([rot, rotate_dataset(x_te, rot), y_te])"
   ]
  },
  {
   "cell_type": "markdown",
   "metadata": {},
   "source": [
    "Plotting a sample from the training dataset. The origial digit with its 10 rotations:"
   ]
  },
  {
   "cell_type": "code",
   "execution_count": 5,
   "metadata": {},
   "outputs": [
    {
     "name": "stdout",
     "output_type": "stream",
     "text": [
      "Rotation angles are:\n",
      "8.943675007155099\n",
      "12.581150674017694\n",
      "26.658583107709486\n",
      "34.71716005542774\n",
      "43.03280513972153\n",
      "49.32217587712052\n",
      "60.559900373041536\n",
      "70.85351841232436\n",
      "76.23083802841474\n",
      "87.97110669673172\n"
     ]
    },
    {
     "data": {
      "image/png": "[encoded data removed]",
      "text/plain": [
       "<Figure size 576x576 with 11 Axes>"
      ]
     },
     "metadata": {
      "needs_background": "light"
     },
     "output_type": "display_data"
    }
   ],
   "source": [
    "import numpy as np\n",
    "import matplotlib.pyplot as plt\n",
    "\n",
    "w=28\n",
    "h=28\n",
    "fig=plt.figure(figsize=(8, 8))\n",
    "columns = 4\n",
    "rows = 3\n",
    "fig.add_subplot(rows, columns, 1)\n",
    "plt.imshow(x_tr[7])\n",
    "for i in range(10):\n",
    "    x=tasks_tr[i][1][7]\n",
    "    img = x.reshape((h, w))\n",
    "    fig.add_subplot(rows, columns, i+2)\n",
    "    plt.imshow(img, cmap=plt.cm.gray)\n",
    "\n",
    "print('Rotation angles are:')\n",
    "for i in range(10):\n",
    "    print(tasks_tr[i][0])"
   ]
  },
  {
   "cell_type": "markdown",
   "metadata": {},
   "source": [
    "Create the models that will be used for training:"
   ]
  },
  {
   "cell_type": "code",
   "execution_count": 6,
   "metadata": {},
   "outputs": [],
   "source": [
    "import math\n",
    "import torch\n",
    "import torch.nn as nn\n",
    "from torch.nn.functional import relu, avg_pool2d"
   ]
  },
  {
   "cell_type": "code",
   "execution_count": 7,
   "metadata": {},
   "outputs": [],
   "source": [
    "def Xavier(m):\n",
    "    if m.__class__.__name__ == 'Linear':\n",
    "        fan_in, fan_out = m.weight.data.size(1), m.weight.data.size(0)\n",
    "        std = 1.0 * math.sqrt(2.0 / (fan_in + fan_out))\n",
    "        a = math.sqrt(3.0) * std\n",
    "        m.weight.data.uniform_(-a, a)\n",
    "        m.bias.data.fill_(0.0)"
   ]
  },
  {
   "cell_type": "code",
   "execution_count": 8,
   "metadata": {},
   "outputs": [],
   "source": [
    "class MLP(nn.Module):\n",
    "    def __init__(self, sizes):\n",
    "        super(MLP, self).__init__()\n",
    "        layers = []\n",
    "\n",
    "        for i in range(0, len(sizes) - 1):\n",
    "            layers.append(nn.Linear(sizes[i], sizes[i + 1]))\n",
    "            if i < (len(sizes) - 2):\n",
    "                layers.append(nn.ReLU())\n",
    "\n",
    "        self.net = nn.Sequential(*layers)\n",
    "        self.net.apply(Xavier)\n",
    "\n",
    "    def forward(self, x):\n",
    "        return self.net(x)"
   ]
  },
  {
   "cell_type": "code",
   "execution_count": 9,
   "metadata": {},
   "outputs": [],
   "source": [
    "def conv3x3(in_planes, out_planes, stride=1):\n",
    "    return nn.Conv2d(in_planes, out_planes, kernel_size=3, stride=stride,\n",
    "                     padding=1, bias=False)"
   ]
  },
  {
   "cell_type": "code",
   "execution_count": 10,
   "metadata": {},
   "outputs": [],
   "source": [
    "class BasicBlock(nn.Module):\n",
    "    expansion = 1\n",
    "\n",
    "    def __init__(self, in_planes, planes, stride=1):\n",
    "        super(BasicBlock, self).__init__()\n",
    "        self.conv1 = conv3x3(in_planes, planes, stride)\n",
    "        self.bn1 = nn.BatchNorm2d(planes)\n",
    "        self.conv2 = conv3x3(planes, planes)\n",
    "        self.bn2 = nn.BatchNorm2d(planes)\n",
    "\n",
    "        self.shortcut = nn.Sequential()\n",
    "        if stride != 1 or in_planes != self.expansion * planes:\n",
    "            self.shortcut = nn.Sequential(\n",
    "                nn.Conv2d(in_planes, self.expansion * planes, kernel_size=1,\n",
    "                          stride=stride, bias=False),\n",
    "                nn.BatchNorm2d(self.expansion * planes)\n",
    "            )\n",
    "\n",
    "    def forward(self, x):\n",
    "        out = relu(self.bn1(self.conv1(x)))\n",
    "        out = self.bn2(self.conv2(out))\n",
    "        out += self.shortcut(x)\n",
    "        out = relu(out)\n",
    "        return out\n"
   ]
  },
  {
   "cell_type": "code",
   "execution_count": 11,
   "metadata": {},
   "outputs": [],
   "source": [
    "class ResNet(nn.Module):\n",
    "    def __init__(self, block, num_blocks, num_classes, nf):\n",
    "        super(ResNet, self).__init__()\n",
    "        self.in_planes = nf\n",
    "\n",
    "        self.conv1 = conv3x3(3, nf * 1)\n",
    "        self.bn1 = nn.BatchNorm2d(nf * 1)\n",
    "        self.layer1 = self._make_layer(block, nf * 1, num_blocks[0], stride=1)\n",
    "        self.layer2 = self._make_layer(block, nf * 2, num_blocks[1], stride=2)\n",
    "        self.layer3 = self._make_layer(block, nf * 4, num_blocks[2], stride=2)\n",
    "        self.layer4 = self._make_layer(block, nf * 8, num_blocks[3], stride=2)\n",
    "        self.linear = nn.Linear(nf * 8 * block.expansion, num_classes)\n",
    "\n",
    "    def _make_layer(self, block, planes, num_blocks, stride):\n",
    "        strides = [stride] + [1] * (num_blocks - 1)\n",
    "        layers = []\n",
    "        for stride in strides:\n",
    "            layers.append(block(self.in_planes, planes, stride))\n",
    "            self.in_planes = planes * block.expansion\n",
    "        return nn.Sequential(*layers)\n",
    "\n",
    "    def forward(self, x):\n",
    "        bsz = x.size(0)\n",
    "        out = relu(self.bn1(self.conv1(x.view(bsz, 3, 32, 32))))\n",
    "        out = self.layer1(out)\n",
    "        out = self.layer2(out)\n",
    "        out = self.layer3(out)\n",
    "        out = self.layer4(out)\n",
    "        out = avg_pool2d(out, 4)\n",
    "        out = out.view(out.size(0), -1)\n",
    "        out = self.linear(out)\n",
    "        return out\n",
    "\n",
    "\n",
    "def ResNet18(nclasses, nf=20):\n",
    "    return ResNet(BasicBlock, [2, 2, 2, 2], nclasses, nf)"
   ]
  },
  {
   "cell_type": "markdown",
   "metadata": {},
   "source": [
    "Define the metrics that will be used for evaluation:"
   ]
  },
  {
   "cell_type": "code",
   "execution_count": 12,
   "metadata": {},
   "outputs": [],
   "source": [
    "from __future__ import print_function\n",
    "\n",
    "import torch"
   ]
  },
  {
   "cell_type": "code",
   "execution_count": 13,
   "metadata": {},
   "outputs": [],
   "source": [
    "def task_changes(result_t):\n",
    "    n_tasks = int(result_t.max() + 1)\n",
    "    changes = []\n",
    "    current = result_t[0]\n",
    "    for i, t in enumerate(result_t):\n",
    "        if t != current:\n",
    "            changes.append(i)\n",
    "            current = t\n",
    "\n",
    "    return n_tasks, changes\n",
    "\n",
    "\n",
    "def confusion_matrix(result_t, result_a, fname=None):\n",
    "    nt, changes = task_changes(result_t)\n",
    "\n",
    "    baseline = result_a[0]\n",
    "    changes = torch.LongTensor(changes + [result_a.size(0)]) - 1\n",
    "    result = result_a[changes]\n",
    "\n",
    "    # acc[t] equals result[t,t]\n",
    "    acc = result.diag()\n",
    "    fin = result[nt - 1]\n",
    "    # bwt[t] equals result[T,t] - acc[t]\n",
    "    bwt = result[nt - 1] - acc\n",
    "\n",
    "    # fwt[t] equals result[t-1,t] - baseline[t]\n",
    "    fwt = torch.zeros(nt)\n",
    "    for t in range(1, nt):\n",
    "        fwt[t] = result[t - 1, t] - baseline[t]\n",
    "\n",
    "    if fname is not None:\n",
    "        f = open(fname, 'w')\n",
    "\n",
    "        print(' '.join(['%.4f' % r for r in baseline]), file=f)\n",
    "        print('|', file=f)\n",
    "        for row in range(result.size(0)):\n",
    "            print(' '.join(['%.4f' % r for r in result[row]]), file=f)\n",
    "        print('', file=f)\n",
    "        # print('Diagonal Accuracy: %.4f' % acc.mean(), file=f)\n",
    "        print('Final Accuracy: %.4f' % fin.mean(), file=f)\n",
    "        print('Backward: %.4f' % bwt.mean(), file=f)\n",
    "        print('Forward:  %.4f' % fwt.mean(), file=f)\n",
    "        f.close()\n",
    "\n",
    "    stats = []\n",
    "    # stats.append(acc.mean())\n",
    "    stats.append(fin.mean())\n",
    "    stats.append(bwt.mean())\n",
    "    stats.append(fwt.mean())\n",
    "\n",
    "    return stats"
   ]
  },
  {
   "cell_type": "markdown",
   "metadata": {},
   "source": [
    "Defining GEM Algorithm:\n",
    "(GEM can be viewed as a model that learns the subset of correlations common to a set of distributions (tasks). GEM can also be used to predict target vectors associated to previous or new tasks without making use of task descriptors.\n",
    "\n",
    "The challenges solved by GEM model are :\n",
    "\n",
    "Non-iid input data: the continuum of data is not iid with respect to any fixed probability distribution P(X, T, Y ) since, once tasks switch, a whole sequence of examples from the new task may be observed.\n",
    "Catastrophic forgetting: learning new tasks may hurt the performance of the learner at previously solved tasks.\n",
    "Transfer learning: when the tasks in the continuum are related, there exists an opportunity for transfer learning. This would translate into faster learning of new tasks, as well as performance improvements in old tasks)"
   ]
  },
  {
   "cell_type": "code",
   "execution_count": 14,
   "metadata": {},
   "outputs": [],
   "source": [
    "import torch.nn as nn\n",
    "import torch.optim as optim\n",
    "import quadprog"
   ]
  },
  {
   "cell_type": "code",
   "execution_count": 15,
   "metadata": {},
   "outputs": [],
   "source": [
    "def compute_offsets(task, nc_per_task, is_cifar):\n",
    "    \"\"\"\n",
    "        Compute offsets for cifar to determine which\n",
    "        outputs to select for a given task.\n",
    "    \"\"\"\n",
    "    if is_cifar:\n",
    "        offset1 = task * nc_per_task\n",
    "        offset2 = (task + 1) * nc_per_task\n",
    "    else:\n",
    "        offset1 = 0\n",
    "        offset2 = nc_per_task\n",
    "    return offset1, offset2"
   ]
  },
  {
   "cell_type": "code",
   "execution_count": 16,
   "metadata": {},
   "outputs": [],
   "source": [
    "def store_grad(pp, grads, grad_dims, tid):\n",
    "    \"\"\"\n",
    "        This stores parameter gradients of past tasks.\n",
    "        pp: parameters\n",
    "        grads: gradients\n",
    "        grad_dims: list with number of parameters per layers\n",
    "        tid: task id\n",
    "    \"\"\"\n",
    "    # store the gradients\n",
    "    grads[:, tid].fill_(0.0)\n",
    "    cnt = 0\n",
    "    for param in pp():\n",
    "        if param.grad is not None:\n",
    "            beg = 0 if cnt == 0 else sum(grad_dims[:cnt])\n",
    "            en = sum(grad_dims[:cnt + 1])\n",
    "            grads[beg: en, tid].copy_(param.grad.data.view(-1))\n",
    "        cnt += 1"
   ]
  },
  {
   "cell_type": "code",
   "execution_count": 17,
   "metadata": {},
   "outputs": [],
   "source": [
    "def overwrite_grad(pp, newgrad, grad_dims):\n",
    "    \"\"\"\n",
    "        This is used to overwrite the gradients with a new gradient\n",
    "        vector, whenever violations occur.\n",
    "        pp: parameters\n",
    "        newgrad: corrected gradient\n",
    "        grad_dims: list storing number of parameters at each layer\n",
    "    \"\"\"\n",
    "    cnt = 0\n",
    "    for param in pp():\n",
    "        if param.grad is not None:\n",
    "            beg = 0 if cnt == 0 else sum(grad_dims[:cnt])\n",
    "            en = sum(grad_dims[:cnt + 1])\n",
    "            this_grad = newgrad[beg: en].contiguous().view(\n",
    "                param.grad.data.size())\n",
    "            param.grad.data.copy_(this_grad)\n",
    "        cnt += 1"
   ]
  },
  {
   "cell_type": "code",
   "execution_count": 18,
   "metadata": {},
   "outputs": [],
   "source": [
    "def project2cone2(gradient, memories, margin=0.5, eps=1e-3):\n",
    "    \"\"\"\n",
    "        Solves the GEM dual QP described in the paper given a proposed\n",
    "        gradient \"gradient\", and a memory of task gradients \"memories\".\n",
    "        Overwrites \"gradient\" with the final projected update.\n",
    "        input:  gradient, p-vector\n",
    "        input:  memories, (t * p)-vector\n",
    "        output: x, p-vector\n",
    "    \"\"\"\n",
    "    memories_np = memories.cpu().t().double().numpy()\n",
    "    gradient_np = gradient.cpu().contiguous().view(-1).double().numpy()\n",
    "    t = memories_np.shape[0]\n",
    "    P = np.dot(memories_np, memories_np.transpose())\n",
    "    P = 0.5 * (P + P.transpose()) + np.eye(t) * eps\n",
    "    q = np.dot(memories_np, gradient_np) * -1\n",
    "    G = np.eye(t)\n",
    "    h = np.zeros(t) + margin\n",
    "    v = quadprog.solve_qp(P, q, G, h)[0]\n",
    "    x = np.dot(v, memories_np) + gradient_np\n",
    "    gradient.copy_(torch.Tensor(x).view(-1, 1))"
   ]
  },
  {
   "cell_type": "code",
   "execution_count": 19,
   "metadata": {},
   "outputs": [],
   "source": [
    "class Net(nn.Module):\n",
    "    def __init__(self,\n",
    "                 n_inputs,\n",
    "                 n_outputs,\n",
    "                 n_tasks,\n",
    "                 args):\n",
    "        super(Net, self).__init__()\n",
    "        nl, nh = args['n_layers'], args['n_hiddens']\n",
    "        self.margin = args['memory_strength']\n",
    "        self.is_cifar = (args['data_file'] == 'cifar100.pt')\n",
    "        if self.is_cifar:\n",
    "            self.net = ResNet18(n_outputs)\n",
    "        else:\n",
    "            self.net = MLP([n_inputs] + [nh] * nl + [n_outputs])\n",
    "\n",
    "        self.ce = nn.CrossEntropyLoss()\n",
    "        self.n_outputs = n_outputs\n",
    "\n",
    "        self.opt = optim.SGD(self.parameters(), args['lr'])\n",
    "\n",
    "        self.n_memories = args['n_memories']\n",
    "        self.gpu = args['cuda']\n",
    "\n",
    "        # allocate episodic memory\n",
    "        self.memory_data = torch.FloatTensor(\n",
    "            n_tasks, self.n_memories, n_inputs)\n",
    "        self.memory_labs = torch.LongTensor(n_tasks, self.n_memories)\n",
    "        if args['cuda']:\n",
    "            self.memory_data = self.memory_data.cuda()\n",
    "            self.memory_labs = self.memory_labs.cuda()\n",
    "\n",
    "        # allocate temporary synaptic memory\n",
    "        self.grad_dims = []\n",
    "        for param in self.parameters():\n",
    "            self.grad_dims.append(param.data.numel())\n",
    "        self.grads = torch.Tensor(sum(self.grad_dims), n_tasks)\n",
    "        if args['cuda']:\n",
    "            self.grads = self.grads.cuda()\n",
    "\n",
    "        # allocate counters\n",
    "        self.observed_tasks = []\n",
    "        self.old_task = -1\n",
    "        self.mem_cnt = 0\n",
    "        if self.is_cifar:\n",
    "            self.nc_per_task = int(n_outputs / n_tasks)\n",
    "        else:\n",
    "            self.nc_per_task = n_outputs\n",
    "\n",
    "    def forward(self, x, t):\n",
    "        output = self.net(x)\n",
    "        if self.is_cifar:\n",
    "            # make sure we predict classes within the current task\n",
    "            offset1 = int(t * self.nc_per_task)\n",
    "            offset2 = int((t + 1) * self.nc_per_task)\n",
    "            if offset1 > 0:\n",
    "                output[:, :offset1].data.fill_(-10e10)\n",
    "            if offset2 < self.n_outputs:\n",
    "                output[:, offset2:self.n_outputs].data.fill_(-10e10)\n",
    "        return output\n",
    "\n",
    "    def observe(self, x, t, y):\n",
    "        # update memory\n",
    "        if t != self.old_task:\n",
    "            self.observed_tasks.append(t)\n",
    "            self.old_task = t\n",
    "\n",
    "        # Update ring buffer storing examples from current task\n",
    "        bsz = y.data.size(0)\n",
    "        endcnt = min(self.mem_cnt + bsz, self.n_memories)\n",
    "        effbsz = endcnt - self.mem_cnt\n",
    "        self.memory_data[t, self.mem_cnt: endcnt].copy_(\n",
    "            x.data[: effbsz])\n",
    "        if bsz == 1:\n",
    "            self.memory_labs[t, self.mem_cnt] = y.data[0]\n",
    "        else:\n",
    "            self.memory_labs[t, self.mem_cnt: endcnt].copy_(\n",
    "                y.data[: effbsz])\n",
    "        self.mem_cnt += effbsz\n",
    "        if self.mem_cnt == self.n_memories:\n",
    "            self.mem_cnt = 0\n",
    "\n",
    "        # compute gradient on previous tasks\n",
    "        if len(self.observed_tasks) > 1:\n",
    "            for tt in range(len(self.observed_tasks) - 1):\n",
    "                self.zero_grad()\n",
    "                # fwd/bwd on the examples in the memory\n",
    "                past_task = self.observed_tasks[tt]\n",
    "\n",
    "                offset1, offset2 = compute_offsets(past_task, self.nc_per_task,\n",
    "                                                   self.is_cifar)\n",
    "                ptloss = self.ce(\n",
    "                    self.forward(\n",
    "                        self.memory_data[past_task],\n",
    "                        past_task)[:, offset1: offset2],\n",
    "                    self.memory_labs[past_task] - offset1)\n",
    "                ptloss.backward()\n",
    "                store_grad(self.parameters, self.grads, self.grad_dims,\n",
    "                           past_task)\n",
    "\n",
    "        # now compute the grad on the current minibatch\n",
    "        self.zero_grad()\n",
    "\n",
    "        offset1, offset2 = compute_offsets(t, self.nc_per_task, self.is_cifar)\n",
    "        loss = self.ce(self.forward(x, t)[:, offset1: offset2], y - offset1)\n",
    "        loss.backward()\n",
    "\n",
    "        # check if gradient violates constraints\n",
    "        if len(self.observed_tasks) > 1:\n",
    "            # copy gradient\n",
    "            store_grad(self.parameters, self.grads, self.grad_dims, t)\n",
    "            indx = torch.cuda.LongTensor(self.observed_tasks[:-1]) if self.gpu \\\n",
    "                else torch.LongTensor(self.observed_tasks[:-1])\n",
    "            dotp = torch.mm(self.grads[:, t].unsqueeze(0),\n",
    "                            self.grads.index_select(1, indx))\n",
    "            if (dotp < 0).sum() != 0:\n",
    "                project2cone2(self.grads[:, t].unsqueeze(1),\n",
    "                              self.grads.index_select(1, indx), self.margin)\n",
    "                # copy gradients back\n",
    "                overwrite_grad(self.parameters, self.grads[:, t],\n",
    "                               self.grad_dims)\n",
    "        self.opt.step()"
   ]
  },
  {
   "cell_type": "markdown",
   "metadata": {},
   "source": [
    "Load Dataset:"
   ]
  },
  {
   "cell_type": "code",
   "execution_count": 20,
   "metadata": {},
   "outputs": [],
   "source": [
    "import importlib\n",
    "import datetime\n",
    "import argparse\n",
    "import random\n",
    "import uuid\n",
    "import time\n",
    "import os"
   ]
  },
  {
   "cell_type": "code",
   "execution_count": 21,
   "metadata": {},
   "outputs": [],
   "source": [
    "def load_datasets():\n",
    "    d_tr, d_te = tasks_tr, tasks_te\n",
    "    n_inputs = d_tr[0][1].size(1)\n",
    "    n_outputs = 0\n",
    "    for i in range(len(d_tr)):\n",
    "        n_outputs = max(n_outputs, d_tr[i][2].max().item())\n",
    "        n_outputs = max(n_outputs, d_te[i][2].max().item())\n",
    "    return d_tr, d_te, n_inputs, n_outputs + 1, len(d_tr)"
   ]
  },
  {
   "cell_type": "markdown",
   "metadata": {},
   "source": [
    "Define continuum of data:"
   ]
  },
  {
   "cell_type": "code",
   "execution_count": 22,
   "metadata": {},
   "outputs": [],
   "source": [
    "class Continuum:\n",
    "\n",
    "    def __init__(self, data, args):\n",
    "        self.data = data\n",
    "        self.batch_size = args['batch_size']\n",
    "        n_tasks = len(data)\n",
    "        task_permutation = range(n_tasks)\n",
    "\n",
    "        if args['shuffle_tasks'] == 'yes':\n",
    "            task_permutation = torch.randperm(n_tasks).tolist()\n",
    "\n",
    "        sample_permutations = []\n",
    "\n",
    "        for t in range(n_tasks):\n",
    "            N = data[t][1].size(0)\n",
    "            if args['samples_per_task'] <= 0:\n",
    "                n = N\n",
    "            else:\n",
    "                n = min(args['samples_per_task'], N)\n",
    "\n",
    "            p = torch.randperm(N)[0:n]\n",
    "            sample_permutations.append(p)\n",
    "\n",
    "        self.permutation = []\n",
    "\n",
    "        for t in range(n_tasks):\n",
    "            task_t = task_permutation[t]\n",
    "            for _ in range(args['n_epochs']):\n",
    "                task_p = [[task_t, i] for i in sample_permutations[task_t]]\n",
    "                random.shuffle(task_p)\n",
    "                self.permutation += task_p\n",
    "\n",
    "        self.length = len(self.permutation)\n",
    "        self.current = 0\n",
    "\n",
    "    def __iter__(self):\n",
    "        return self\n",
    "\n",
    "    def next(self):\n",
    "        return self.__next__()\n",
    "\n",
    "    def __next__(self):\n",
    "        if self.current >= self.length:\n",
    "            raise StopIteration\n",
    "        else:\n",
    "            ti = self.permutation[self.current][0]\n",
    "            j = []\n",
    "            i = 0\n",
    "            while (((self.current + i) < self.length) and\n",
    "                   (self.permutation[self.current + i][0] == ti) and\n",
    "                   (i < self.batch_size)):\n",
    "                j.append(self.permutation[self.current + i][1])\n",
    "                i += 1\n",
    "            self.current += i\n",
    "            j = torch.LongTensor(j)\n",
    "            return self.data[ti][1][j], ti, self.data[ti][2][j]"
   ]
  },
  {
   "cell_type": "markdown",
   "metadata": {},
   "source": [
    "Evaluating the performance of the model:"
   ]
  },
  {
   "cell_type": "code",
   "execution_count": 23,
   "metadata": {},
   "outputs": [],
   "source": [
    "def eval_tasks(model, tasks, args):\n",
    "    model.eval()\n",
    "    result = []\n",
    "    for i, task in enumerate(tasks):\n",
    "        t = i\n",
    "        x = task[1]\n",
    "        y = task[2]\n",
    "        rt = 0\n",
    "        \n",
    "        eval_bs = x.size(0)\n",
    "\n",
    "        for b_from in range(0, x.size(0), eval_bs):\n",
    "            b_to = min(b_from + eval_bs, x.size(0) - 1)\n",
    "            if b_from == b_to:\n",
    "                xb = x[b_from].view(1, -1)\n",
    "                yb = torch.LongTensor([y[b_to]]).view(1, -1)\n",
    "            else:\n",
    "                xb = x[b_from:b_to]\n",
    "                yb = y[b_from:b_to]\n",
    "            if args['cuda']:\n",
    "                xb = xb.cuda()\n",
    "            _, pb = torch.max(model(xb, t).data.cpu(), 1, keepdim=False)\n",
    "            rt += (pb == yb).float().sum()\n",
    "\n",
    "        result.append(rt / x.size(0))\n",
    "\n",
    "    return result"
   ]
  },
  {
   "cell_type": "code",
   "execution_count": 24,
   "metadata": {},
   "outputs": [],
   "source": [
    "def life_experience(model, continuum, x_te, args):\n",
    "    result_a = []\n",
    "    result_t = []\n",
    "\n",
    "    current_task = 0\n",
    "    time_start = time.time()\n",
    "\n",
    "    for (i, (x, t, y)) in enumerate(continuum):\n",
    "        if(((i % args['log_every']) == 0) or (t != current_task)):\n",
    "            result_a.append(eval_tasks(model, x_te, args))\n",
    "            result_t.append(current_task)\n",
    "            current_task = t\n",
    "\n",
    "        v_x = x.view(x.size(0), -1)\n",
    "        v_y = y.long()\n",
    "\n",
    "        if args['cuda']:\n",
    "            v_x = v_x.cuda()\n",
    "            v_y = v_y.cuda()\n",
    "\n",
    "        model.train()\n",
    "        model.observe(v_x, t, v_y)\n",
    "\n",
    "    result_a.append(eval_tasks(model, x_te, args))\n",
    "    result_t.append(current_task)\n",
    "\n",
    "    time_end = time.time()\n",
    "    time_spent = time_end - time_start\n",
    "\n",
    "    return torch.Tensor(result_t), torch.Tensor(result_a), time_spent"
   ]
  },
  {
   "cell_type": "markdown",
   "metadata": {},
   "source": [
    "Defining the arguments for the complete experiment:"
   ]
  },
  {
   "cell_type": "code",
   "execution_count": 25,
   "metadata": {},
   "outputs": [],
   "source": [
    "args = {\n",
    "    'model' : 'gem',\n",
    "    'lr' : 0.5,\n",
    "    'n_memories' : 256,\n",
    "    'memory_strength' : 0.9,\n",
    "    'seed' : 0,\n",
    "    'cuda' : 'no',\n",
    "    'finetune' : 'no',\n",
    "    'batch_size' : 10,\n",
    "    'shuffle_tasks' : 'no',\n",
    "    'samples_per_task' : -1,\n",
    "    'n_epochs' : 1,\n",
    "    'n_layers' : 2,\n",
    "    'n_hiddens' : 100,\n",
    "    'data_file' : 'mnist_rotations.pt',\n",
    "    'log_every' : 100\n",
    "}"
   ]
  },
  {
   "cell_type": "code",
   "execution_count": 26,
   "metadata": {},
   "outputs": [],
   "source": [
    "args['cuda'] = True if args['cuda'] == 'yes' else False\n",
    "args['finetune'] = True if args['finetune'] == 'yes' else False\n",
    "    \n",
    "uid = uuid.uuid4().hex\n",
    "\n",
    "torch.backends.cudnn.enabled = False\n",
    "torch.manual_seed(args['seed'])\n",
    "np.random.seed(args['seed'])\n",
    "random.seed(args['seed'])\n",
    "if args['cuda']:\n",
    "        torch.cuda.manual_seed_all(args['seed'])\n",
    "\n",
    "x_train, x_test, n_inputs, n_outputs, n_tasks = load_datasets()\n",
    "\n",
    "continuum = Continuum(x_train, args)"
   ]
  },
  {
   "cell_type": "code",
   "execution_count": 27,
   "metadata": {},
   "outputs": [
    {
     "name": "stdout",
     "output_type": "stream",
     "text": [
      "done\n"
     ]
    }
   ],
   "source": [
    "model = Net(n_inputs, n_outputs, n_tasks, args)\n",
    "if args['cuda']:\n",
    "    model.cuda()\n",
    "    \n",
    "print('done')"
   ]
  },
  {
   "cell_type": "code",
   "execution_count": 28,
   "metadata": {},
   "outputs": [
    {
     "name": "stdout",
     "output_type": "stream",
     "text": [
      "done\n"
     ]
    }
   ],
   "source": [
    "# run model on continuum\n",
    "result_t, result_a, spent_time = life_experience(\n",
    "    model, continuum, x_train, args)\n",
    "print('done')"
   ]
  },
  {
   "cell_type": "code",
   "execution_count": 29,
   "metadata": {},
   "outputs": [
    {
     "name": "stdout",
     "output_type": "stream",
     "text": [
      "Final Accuracy = 0.106018\n",
      "Backward Trasnfer = -0.141480\n",
      "Forward Trasnfer = 0.154967\n"
     ]
    }
   ],
   "source": [
    "# save confusion matrix and print one line of stats\n",
    "stats = confusion_matrix(result_t, result_a, 'confusion.txt')\n",
    "print('Final Accuracy = %f' % stats[0].numpy())\n",
    "print('Backward Trasnfer = %f' % stats[1].numpy())\n",
    "print('Forward Trasnfer = %f' % stats[2].numpy())"
   ]
  },
  {
   "cell_type": "markdown",
   "metadata": {},
   "source": [
    "Plotting Results:"
   ]
  },
  {
   "cell_type": "code",
   "execution_count": 30,
   "metadata": {},
   "outputs": [
    {
     "name": "stderr",
     "output_type": "stream",
     "text": [
      "No handles with labels found to put in legend.\n"
     ]
    },
    {
     "data": {
      "image/png": "[encoded data removed]",
      "text/plain": [
       "<Figure size 504x216 with 1 Axes>"
      ]
     },
     "metadata": {
      "needs_background": "light"
     },
     "output_type": "display_data"
    },
    {
     "data": {
      "image/png": "[encoded data removed]",
      "text/plain": [
       "<Figure size 504x216 with 1 Axes>"
      ]
     },
     "metadata": {
      "needs_background": "light"
     },
     "output_type": "display_data"
    }
   ],
   "source": [
    "import matplotlib as mpl\n",
    "import tkinter\n",
    "mpl.use('TkAgg')\n",
    "mpl.rcParams[\"font.family\"] = \"Times New Roman\"\n",
    "mpl.rcParams[\"font.family\"] = \"DejaVu Serif\"\n",
    "\n",
    "from matplotlib import pyplot as plt\n",
    "from glob import glob\n",
    "import numpy as np\n",
    "import torch\n",
    "\n",
    "models = ['gem']\n",
    "datasets = ['mnist_rotations']\n",
    "\n",
    "names_datasets = {'mnist_rotations': 'MNIST rotations'}\n",
    "\n",
    "names_models = {'gem': 'GEM'}\n",
    "\n",
    "colors = {'gem': 'C4'}\n",
    "\n",
    "barplot = {}\n",
    "\n",
    "for dataset in datasets:\n",
    "    barplot[dataset] = {}\n",
    "    for model in models:\n",
    "        barplot[dataset][model] = {}\n",
    "        matches = glob(model + '*' + dataset + '*.pt')\n",
    "        if len(matches):\n",
    "            data = torch.load(matches[0], map_location=lambda storage, loc: storage)\n",
    "            acc, bwt, fwt = data[3][:]\n",
    "            barplot[dataset][model]['acc'] = acc\n",
    "            barplot[dataset][model]['bwt'] = bwt\n",
    "            barplot[dataset][model]['fwt'] = fwt\n",
    "\n",
    "for dataset in datasets:\n",
    "    x_lab = []\n",
    "    y_acc = []\n",
    "    y_bwt = []\n",
    "    y_fwt = []\n",
    "\n",
    "    for i, model in enumerate(models):\n",
    "        if barplot[dataset][model] != {}:\n",
    "            x_lab.append(model)\n",
    "            y_acc.append(barplot[dataset][model]['acc'])\n",
    "            y_bwt.append(barplot[dataset][model]['bwt'])\n",
    "            y_fwt.append(barplot[dataset][model]['fwt'])\n",
    "\n",
    "    x_ind = np.arange(len(y_acc))\n",
    "\n",
    "    plt.figure(figsize=(7, 3))\n",
    "    all_colors = []\n",
    "    for xi, yi, li in zip(x_ind, y_acc, x_lab):\n",
    "        plt.bar(xi, yi, label=names_models[li], color=colors[li])\n",
    "        all_colors.append(colors[li])\n",
    "    plt.bar(x_ind + (len(y_acc) + 1) * 1, y_bwt, color=all_colors)\n",
    "    plt.bar(x_ind + (len(y_acc) + 1) * 2, y_fwt, color=all_colors)\n",
    "    plt.xticks([0.01, 2, 4], ['ACC', 'BWT', 'FWT'], fontsize=16)\n",
    "    plt.yticks(fontsize=16)\n",
    "    plt.xlim(-1, len(y_acc) * 3 + 2)\n",
    "    plt.ylabel('classification accuracy', fontsize=16)\n",
    "    plt.title(names_datasets[dataset], fontsize=16)\n",
    "    plt.legend(fontsize=12)\n",
    "    plt.tight_layout()\n",
    "    plt.savefig('barplot_%s.pdf' % dataset, bbox_inches='tight')\n",
    "    plt.show()\n",
    "\n",
    "evoplot = {}\n",
    "\n",
    "for dataset in datasets:\n",
    "    evoplot[dataset] = {}\n",
    "    for model in models:\n",
    "        matches = glob(model + '*' + dataset + '*.pt')\n",
    "        if len(matches):\n",
    "            data = torch.load(matches[0], map_location=lambda storage, loc: storage)\n",
    "            evoplot[dataset][model] = data[1][:, 0].numpy()\n",
    "\n",
    "for dataset in datasets:\n",
    "\n",
    "    plt.figure(figsize=(7, 3))\n",
    "    for model in models:\n",
    "        if model in evoplot[dataset]:\n",
    "            x = np.arange(len(evoplot[dataset][model]))\n",
    "            x = (x - x.min()) / (x.max() - x.min()) * 10\n",
    "            plt.plot(x, evoplot[dataset][model], color=colors[model], lw=3)\n",
    "            plt.xticks(range(0, 11, 2))\n",
    "\n",
    "    plt.xticks(fontsize=16)\n",
    "    plt.yticks(fontsize=16)\n",
    "    plt.xlabel('task number', fontsize=16)\n",
    "    plt.title(names_datasets[dataset], fontsize=16)\n",
    "    plt.tight_layout()\n",
    "    plt.savefig('evoplot_%s.pdf' % dataset, bbox_inches='tight')\n",
    "    plt.show()\n",
    "  \n"
   ]
  }
 ],
 "metadata": {
  "kernelspec": {
   "display_name": "Python 3",
   "language": "python",
   "name": "python3"
  },
  "language_info": {
   "codemirror_mode": {
    "name": "ipython",
    "version": 3
   },
   "file_extension": ".py",
   "mimetype": "text/x-python",
   "name": "python",
   "nbconvert_exporter": "python",
   "pygments_lexer": "ipython3",
   "version": "3.7.4"
  }
 },
 "nbformat": 4,
 "nbformat_minor": 4
}
